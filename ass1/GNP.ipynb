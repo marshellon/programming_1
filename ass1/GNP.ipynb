{
 "cells": [
  {
   "cell_type": "markdown",
   "metadata": {},
   "source": [
    "Made by: Marshellon Martinus\n",
    "\n",
    "![title](world-CO2-emission-vs-GDP.png)\n",
    "\n",
    "source: https://www.cartoskill.com/static/world-CO2-emission-vs-GDP/ \n",
    "\n",
    "# The correlation between gross national product (GNP) per capita and CO2 emissions per country.\n",
    "\n",
    "The gross nationale product(GNP) per capital. Source: https://www.kaggle.com/datasets/ammon1/demographic?resource=download\n",
    "\n",
    "CO2 emmission per capital from 2002-2018. Source: https://www.kaggle.com/datasets/thedevastator/global-fossil-co2-emissions-by-country-2002-2022\n",
    "\n",
    "\n",
    "### Introduction\n",
    "\n",
    "The gross national product, or GNP, is an estimate of the total value of all final products and services produced in a given period by the means of production owned by the residents of a country.  The  GNP is typically calculated by adding personal consumption expenditures, private domestic investment, government spending, net exports, and any income earned by residents from overseas investments, then subtracting income earned by foreign residents. A country's GDP strongly correlates with its wealth. The wealthier a country the higher its GNP. Countries gradually increased their GDP. The assumption is that this came at a cost in terms of CO2 emissions. This means that countries are emitting more CO2 while producing. Through the assumption discribed earlier The research question arose: \n",
    "\n",
    "`Is the gross national product (GNP) correlated with the CO2 emmission?` \n",
    "Two data sets were downloaded to answer the research question. One dataset contains the CO2 emmission data from 2002 to 2018. The second dataset contains the GNP per country. By combining the two datasets and extracting the most recent year, we can run a regression to see if GNP and CO2 emissions are related.\n",
    "\n",
    "It is expected that if a country has a high GNP, its emissions will be high as well.\n",
    "This assumption is based on the previously explained method of calculating GNP. To achieve a high GNP, a country should produce and sell more goods. This all contribute in a high emission of CO2\n",
    "\n"
   ]
  },
  {
   "cell_type": "markdown",
   "metadata": {},
   "source": [
    "---"
   ]
  },
  {
   "cell_type": "markdown",
   "metadata": {},
   "source": [
    "# About the data\n",
    "#### CO2 dataset: \n",
    "\n",
    "Contains the CO2 emission data from diffent country's (EAST ASIA & PACIFIC or ARAB WORLD). Measured from 2002 to 2018 in g/km\n",
    "\n",
    "#### GNP dataset:  \n",
    "\n",
    "The first two columns contain the date in dollars and the countries.\n",
    "In World Band countries are also some groups of coutries like \"'EAST ASIA & PACIFIC'\" or \"ARAB WORLD\".  \n",
    "Other columns include demographic information such as GNP per capita, population, and so on.\n",
    "The data ranges from 1960 to 2018.\n",
    "Many data points are blank because some \"countries\" are not real countries and have no data, while others have no data for several years. \n",
    "\n",
    "\n"
   ]
  },
  {
   "cell_type": "markdown",
   "metadata": {},
   "source": [
    "#### Loading the data"
   ]
  },
  {
   "cell_type": "code",
   "execution_count": 1,
   "metadata": {},
   "outputs": [
    {
     "data": {
      "text/html": [
       "<div>\n",
       "<style scoped>\n",
       "    .dataframe tbody tr th:only-of-type {\n",
       "        vertical-align: middle;\n",
       "    }\n",
       "\n",
       "    .dataframe tbody tr th {\n",
       "        vertical-align: top;\n",
       "    }\n",
       "\n",
       "    .dataframe thead th {\n",
       "        text-align: right;\n",
       "    }\n",
       "</style>\n",
       "<table border=\"1\" class=\"dataframe\">\n",
       "  <thead>\n",
       "    <tr style=\"text-align: right;\">\n",
       "      <th></th>\n",
       "      <th>Country</th>\n",
       "      <th>ISO 3166-1 alpha-3</th>\n",
       "      <th>Year</th>\n",
       "      <th>Total</th>\n",
       "      <th>Coal</th>\n",
       "      <th>Oil</th>\n",
       "      <th>Gas</th>\n",
       "      <th>Cement</th>\n",
       "      <th>Flaring</th>\n",
       "      <th>Other</th>\n",
       "      <th>Per Capita</th>\n",
       "    </tr>\n",
       "  </thead>\n",
       "  <tbody>\n",
       "    <tr>\n",
       "      <th>0</th>\n",
       "      <td>Afghanistan</td>\n",
       "      <td>AFG</td>\n",
       "      <td>1750</td>\n",
       "      <td>0.0</td>\n",
       "      <td>NaN</td>\n",
       "      <td>NaN</td>\n",
       "      <td>NaN</td>\n",
       "      <td>NaN</td>\n",
       "      <td>NaN</td>\n",
       "      <td>NaN</td>\n",
       "      <td>NaN</td>\n",
       "    </tr>\n",
       "    <tr>\n",
       "      <th>1</th>\n",
       "      <td>Afghanistan</td>\n",
       "      <td>AFG</td>\n",
       "      <td>1751</td>\n",
       "      <td>0.0</td>\n",
       "      <td>NaN</td>\n",
       "      <td>NaN</td>\n",
       "      <td>NaN</td>\n",
       "      <td>NaN</td>\n",
       "      <td>NaN</td>\n",
       "      <td>NaN</td>\n",
       "      <td>NaN</td>\n",
       "    </tr>\n",
       "    <tr>\n",
       "      <th>2</th>\n",
       "      <td>Afghanistan</td>\n",
       "      <td>AFG</td>\n",
       "      <td>1752</td>\n",
       "      <td>0.0</td>\n",
       "      <td>NaN</td>\n",
       "      <td>NaN</td>\n",
       "      <td>NaN</td>\n",
       "      <td>NaN</td>\n",
       "      <td>NaN</td>\n",
       "      <td>NaN</td>\n",
       "      <td>NaN</td>\n",
       "    </tr>\n",
       "    <tr>\n",
       "      <th>3</th>\n",
       "      <td>Afghanistan</td>\n",
       "      <td>AFG</td>\n",
       "      <td>1753</td>\n",
       "      <td>0.0</td>\n",
       "      <td>NaN</td>\n",
       "      <td>NaN</td>\n",
       "      <td>NaN</td>\n",
       "      <td>NaN</td>\n",
       "      <td>NaN</td>\n",
       "      <td>NaN</td>\n",
       "      <td>NaN</td>\n",
       "    </tr>\n",
       "    <tr>\n",
       "      <th>4</th>\n",
       "      <td>Afghanistan</td>\n",
       "      <td>AFG</td>\n",
       "      <td>1754</td>\n",
       "      <td>0.0</td>\n",
       "      <td>NaN</td>\n",
       "      <td>NaN</td>\n",
       "      <td>NaN</td>\n",
       "      <td>NaN</td>\n",
       "      <td>NaN</td>\n",
       "      <td>NaN</td>\n",
       "      <td>NaN</td>\n",
       "    </tr>\n",
       "  </tbody>\n",
       "</table>\n",
       "</div>"
      ],
      "text/plain": [
       "       Country ISO 3166-1 alpha-3  Year  Total  Coal  Oil  Gas  Cement  \\\n",
       "0  Afghanistan                AFG  1750    0.0   NaN  NaN  NaN     NaN   \n",
       "1  Afghanistan                AFG  1751    0.0   NaN  NaN  NaN     NaN   \n",
       "2  Afghanistan                AFG  1752    0.0   NaN  NaN  NaN     NaN   \n",
       "3  Afghanistan                AFG  1753    0.0   NaN  NaN  NaN     NaN   \n",
       "4  Afghanistan                AFG  1754    0.0   NaN  NaN  NaN     NaN   \n",
       "\n",
       "   Flaring  Other  Per Capita  \n",
       "0      NaN    NaN         NaN  \n",
       "1      NaN    NaN         NaN  \n",
       "2      NaN    NaN         NaN  \n",
       "3      NaN    NaN         NaN  \n",
       "4      NaN    NaN         NaN  "
      ]
     },
     "execution_count": 1,
     "metadata": {},
     "output_type": "execute_result"
    }
   ],
   "source": [
    "import pandas as pd #for dataframe handeling\n",
    "import numpy as np # for interpolation purpose\n",
    "import matplotlib.pyplot as plt\n",
    "from ipywidgets import widgets, interactive\n",
    "import Summary_functions_and_code_clean_v12 as sf\n",
    "import seaborn as sn\n",
    "import yaml # for the loading of the config file\n",
    "\n",
    "\n",
    "with  open(\"config.yml\") as file:\n",
    "    input_files = yaml.safe_load(file) #loading the file config file \n",
    "    emmission = pd.read_csv(input_files[\"emmission\"]) # selecting the files that are needed\n",
    "    \n",
    "    gnp = pd.read_csv(input_files[\"gnp\"])\n",
    "\n",
    "\n",
    "gnp.head()# checking that the files are correctly loaded in\n",
    "emmission.head()\n"
   ]
  },
  {
   "cell_type": "markdown",
   "metadata": {},
   "source": [
    "_____"
   ]
  },
  {
   "attachments": {},
   "cell_type": "markdown",
   "metadata": {},
   "source": [
    "#### Quality checks and correction\n",
    "\n",
    "Because we want to know if GNP is related to CO2 emissions, we only want the most recent year from the datasets after merging.\n",
    "However, before we begin the merging process, we must ensure that the country names are spelled correctly.\n",
    "The country names in the emission data set uses capital letters, which will be converted to lower case letters like the country names in the co2 dataset. \n",
    "\n",
    "We also want to make sure that the variables we intend to use are of the correct data type.\n",
    "As a result, both GNP and emission should be of the float data type.\n",
    "The country name should be of the string/object data type, and the years should be of the integer data type. \n"
   ]
  },
  {
   "cell_type": "code",
   "execution_count": 2,
   "metadata": {},
   "outputs": [
    {
     "name": "stdout",
     "output_type": "stream",
     "text": [
      "GNP rows = 10734 and collumns = 11\n",
      "emisson rows = 63104 and collumns = 11\n",
      "The gnp dataframe contains 187 different countrys.\n",
      "The emission dataframe contains 232 diffenent countrys.\n",
      "Total number of similar countries between dataframes: 174\n"
     ]
    }
   ],
   "source": [
    "gnp[\"country\"] = gnp[\"country\"].str.lower() # transforming the country names to lower and saving it in the country column\n",
    "emmission[\"Country\"] = emmission[\"Country\"].str.lower() # transforming the country names to lower and saving it in the country column\n",
    "\n",
    "country_amount_gnp = gnp[\"country\"].unique()# this is the amount of country's whitin in the GNP dataframe\n",
    "country_amount_emmission = emmission[\"Country\"].unique() # this is the amount of country's whitin in the emission dataframe\n",
    "similar_row = len(set(country_amount_gnp) & set(country_amount_emmission)) # Checks how much country's overlap betweeen the two dataframes\n",
    "\n",
    "print(\"GNP rows = {:.0f} and collumns = {:.0f}\".format(gnp.shape[0],gnp.shape[1])) # this checks how many rows and columns the data has \n",
    "print(\"emisson rows = {:.0f} and collumns = {:.0f}\".format(emmission.shape[0],emmission.shape[1]))\n",
    "\n",
    "print('The gnp dataframe contains {:.0f} different countrys.'.format(len(country_amount_gnp))) # print amount of differnt country's \n",
    "print('The emission dataframe contains {:.0f} diffenent countrys.'.format(len(country_amount_emmission)))  # print amount of differnt country's \n",
    "\n",
    "print('Total number of similar countries between dataframes: {:.0f}'.format(similar_row)) # print the amount of the same countrys between dataframes\n",
    "\n"
   ]
  },
  {
   "cell_type": "markdown",
   "metadata": {},
   "source": [
    "As we can see, the total number of countries that overlap is 174. The total number of countries in the GNP dataframe is 187, while the number of countries in the emission dataframe is 232.\n",
    "So now we can check whether the datatypes are the same and correct."
   ]
  },
  {
   "cell_type": "code",
   "execution_count": 3,
   "metadata": {},
   "outputs": [
    {
     "data": {
      "text/plain": [
       "country                  object\n",
       "date                      int64\n",
       "GNP per Capita          float64\n",
       "Inflation               float64\n",
       "Industry                float64\n",
       "life_expectancy         float64\n",
       "Total_Fertility_Rate    float64\n",
       "Population              float64\n",
       "Migration               float64\n",
       "Political_stability     float64\n",
       "c_codes                  object\n",
       "dtype: object"
      ]
     },
     "execution_count": 3,
     "metadata": {},
     "output_type": "execute_result"
    }
   ],
   "source": [
    "gnp.dtypes # check types in dataframe\n"
   ]
  },
  {
   "cell_type": "code",
   "execution_count": 4,
   "metadata": {},
   "outputs": [
    {
     "data": {
      "text/plain": [
       "Country                object\n",
       "ISO 3166-1 alpha-3     object\n",
       "Year                    int64\n",
       "Total                 float64\n",
       "Coal                  float64\n",
       "Oil                   float64\n",
       "Gas                   float64\n",
       "Cement                float64\n",
       "Flaring               float64\n",
       "Other                 float64\n",
       "Per Capita            float64\n",
       "dtype: object"
      ]
     },
     "execution_count": 4,
     "metadata": {},
     "output_type": "execute_result"
    }
   ],
   "source": [
    "emmission.dtypes"
   ]
  },
  {
   "cell_type": "markdown",
   "metadata": {},
   "source": [
    "All of the variables we intend to use are of the correct datatype, so nothing needs to be done here."
   ]
  },
  {
   "cell_type": "markdown",
   "metadata": {},
   "source": [
    "_____"
   ]
  },
  {
   "attachments": {},
   "cell_type": "markdown",
   "metadata": {},
   "source": [
    "#### Checking for NAN values and data wrangling\n",
    "\n",
    "As previously stated, many columns have NAN values.\n",
    "These NAN values are meaningless and should be removed or interpolated in both datasets.\n",
    "In this case, we chose the pandas interpolate() function to interpolate the data.\n",
    "This is because there is an increase between emission and year, as well as between GNP and year.\n",
    "This means that even if we interpolate the data, the resulting value will not be perfect, but it can still be used.\n",
    "It is possible that there are still NAN values present due to the method used to interpolate the data. In this case, any remaining NAN values will be removed.\n",
    "\n"
   ]
  },
  {
   "cell_type": "code",
   "execution_count": 5,
   "metadata": {},
   "outputs": [
    {
     "name": "stdout",
     "output_type": "stream",
     "text": [
      "NAN values found in the Total emission column of emmssion dataframe: 200\n",
      "NAN values found in the GNP per capita column of gnp dataframe: 3767\n",
      "NAN values found in the country column of gnp after interpolation: 44\n",
      "NAN values found in the country column of emission dataframe after interpolation: 0\n"
     ]
    },
    {
     "data": {
      "text/html": [
       "<div>\n",
       "<style scoped>\n",
       "    .dataframe tbody tr th:only-of-type {\n",
       "        vertical-align: middle;\n",
       "    }\n",
       "\n",
       "    .dataframe tbody tr th {\n",
       "        vertical-align: top;\n",
       "    }\n",
       "\n",
       "    .dataframe thead th {\n",
       "        text-align: right;\n",
       "    }\n",
       "</style>\n",
       "<table border=\"1\" class=\"dataframe\">\n",
       "  <thead>\n",
       "    <tr style=\"text-align: right;\">\n",
       "      <th></th>\n",
       "      <th>country</th>\n",
       "      <th>date</th>\n",
       "      <th>GNP per Capita</th>\n",
       "      <th>Inflation</th>\n",
       "      <th>Industry</th>\n",
       "      <th>life_expectancy</th>\n",
       "      <th>Total_Fertility_Rate</th>\n",
       "      <th>Population</th>\n",
       "      <th>Migration</th>\n",
       "      <th>Political_stability</th>\n",
       "      <th>c_codes</th>\n",
       "    </tr>\n",
       "  </thead>\n",
       "  <tbody>\n",
       "    <tr>\n",
       "      <th>44</th>\n",
       "      <td>afghanistan</td>\n",
       "      <td>2004</td>\n",
       "      <td>210.0</td>\n",
       "      <td>11.242729</td>\n",
       "      <td>NaN</td>\n",
       "      <td>57.875</td>\n",
       "      <td>6.988</td>\n",
       "      <td>24118979.0</td>\n",
       "      <td>NaN</td>\n",
       "      <td>0.485437</td>\n",
       "      <td>AFG</td>\n",
       "    </tr>\n",
       "    <tr>\n",
       "      <th>45</th>\n",
       "      <td>afghanistan</td>\n",
       "      <td>2005</td>\n",
       "      <td>250.0</td>\n",
       "      <td>10.900268</td>\n",
       "      <td>NaN</td>\n",
       "      <td>58.500</td>\n",
       "      <td>6.827</td>\n",
       "      <td>25070798.0</td>\n",
       "      <td>NaN</td>\n",
       "      <td>0.485437</td>\n",
       "      <td>AFG</td>\n",
       "    </tr>\n",
       "    <tr>\n",
       "      <th>46</th>\n",
       "      <td>afghanistan</td>\n",
       "      <td>2006</td>\n",
       "      <td>270.0</td>\n",
       "      <td>7.171261</td>\n",
       "      <td>NaN</td>\n",
       "      <td>59.110</td>\n",
       "      <td>6.651</td>\n",
       "      <td>25893450.0</td>\n",
       "      <td>NaN</td>\n",
       "      <td>0.483092</td>\n",
       "      <td>AFG</td>\n",
       "    </tr>\n",
       "    <tr>\n",
       "      <th>47</th>\n",
       "      <td>afghanistan</td>\n",
       "      <td>2007</td>\n",
       "      <td>330.0</td>\n",
       "      <td>22.382016</td>\n",
       "      <td>NaN</td>\n",
       "      <td>59.694</td>\n",
       "      <td>6.460</td>\n",
       "      <td>26616792.0</td>\n",
       "      <td>-777497.0</td>\n",
       "      <td>0.000000</td>\n",
       "      <td>AFG</td>\n",
       "    </tr>\n",
       "    <tr>\n",
       "      <th>48</th>\n",
       "      <td>afghanistan</td>\n",
       "      <td>2008</td>\n",
       "      <td>360.0</td>\n",
       "      <td>2.179103</td>\n",
       "      <td>NaN</td>\n",
       "      <td>60.243</td>\n",
       "      <td>6.254</td>\n",
       "      <td>27294031.0</td>\n",
       "      <td>NaN</td>\n",
       "      <td>0.000000</td>\n",
       "      <td>AFG</td>\n",
       "    </tr>\n",
       "    <tr>\n",
       "      <th>...</th>\n",
       "      <td>...</td>\n",
       "      <td>...</td>\n",
       "      <td>...</td>\n",
       "      <td>...</td>\n",
       "      <td>...</td>\n",
       "      <td>...</td>\n",
       "      <td>...</td>\n",
       "      <td>...</td>\n",
       "      <td>...</td>\n",
       "      <td>...</td>\n",
       "      <td>...</td>\n",
       "    </tr>\n",
       "    <tr>\n",
       "      <th>10729</th>\n",
       "      <td>zimbabwe</td>\n",
       "      <td>2014</td>\n",
       "      <td>900.0</td>\n",
       "      <td>0.700921</td>\n",
       "      <td>NaN</td>\n",
       "      <td>59.360</td>\n",
       "      <td>3.903</td>\n",
       "      <td>15411675.0</td>\n",
       "      <td>NaN</td>\n",
       "      <td>13.333330</td>\n",
       "      <td>ZWE</td>\n",
       "    </tr>\n",
       "    <tr>\n",
       "      <th>10730</th>\n",
       "      <td>zimbabwe</td>\n",
       "      <td>2015</td>\n",
       "      <td>890.0</td>\n",
       "      <td>0.898072</td>\n",
       "      <td>NaN</td>\n",
       "      <td>60.398</td>\n",
       "      <td>3.836</td>\n",
       "      <td>15777451.0</td>\n",
       "      <td>NaN</td>\n",
       "      <td>16.666670</td>\n",
       "      <td>ZWE</td>\n",
       "    </tr>\n",
       "    <tr>\n",
       "      <th>10731</th>\n",
       "      <td>zimbabwe</td>\n",
       "      <td>2016</td>\n",
       "      <td>890.0</td>\n",
       "      <td>1.309977</td>\n",
       "      <td>NaN</td>\n",
       "      <td>61.163</td>\n",
       "      <td>3.760</td>\n",
       "      <td>16150362.0</td>\n",
       "      <td>NaN</td>\n",
       "      <td>14.285710</td>\n",
       "      <td>ZWE</td>\n",
       "    </tr>\n",
       "    <tr>\n",
       "      <th>10732</th>\n",
       "      <td>zimbabwe</td>\n",
       "      <td>2017</td>\n",
       "      <td>910.0</td>\n",
       "      <td>3.797826</td>\n",
       "      <td>NaN</td>\n",
       "      <td>NaN</td>\n",
       "      <td>NaN</td>\n",
       "      <td>16529904.0</td>\n",
       "      <td>-99998.0</td>\n",
       "      <td>11.428570</td>\n",
       "      <td>ZWE</td>\n",
       "    </tr>\n",
       "    <tr>\n",
       "      <th>10733</th>\n",
       "      <td>zimbabwe</td>\n",
       "      <td>2018</td>\n",
       "      <td>910.0</td>\n",
       "      <td>NaN</td>\n",
       "      <td>NaN</td>\n",
       "      <td>NaN</td>\n",
       "      <td>NaN</td>\n",
       "      <td>NaN</td>\n",
       "      <td>NaN</td>\n",
       "      <td>NaN</td>\n",
       "      <td>ZWE</td>\n",
       "    </tr>\n",
       "  </tbody>\n",
       "</table>\n",
       "<p>10690 rows × 11 columns</p>\n",
       "</div>"
      ],
      "text/plain": [
       "           country  date  GNP per Capita  Inflation  Industry  \\\n",
       "44     afghanistan  2004           210.0  11.242729       NaN   \n",
       "45     afghanistan  2005           250.0  10.900268       NaN   \n",
       "46     afghanistan  2006           270.0   7.171261       NaN   \n",
       "47     afghanistan  2007           330.0  22.382016       NaN   \n",
       "48     afghanistan  2008           360.0   2.179103       NaN   \n",
       "...            ...   ...             ...        ...       ...   \n",
       "10729     zimbabwe  2014           900.0   0.700921       NaN   \n",
       "10730     zimbabwe  2015           890.0   0.898072       NaN   \n",
       "10731     zimbabwe  2016           890.0   1.309977       NaN   \n",
       "10732     zimbabwe  2017           910.0   3.797826       NaN   \n",
       "10733     zimbabwe  2018           910.0        NaN       NaN   \n",
       "\n",
       "       life_expectancy  Total_Fertility_Rate  Population  Migration  \\\n",
       "44              57.875                 6.988  24118979.0        NaN   \n",
       "45              58.500                 6.827  25070798.0        NaN   \n",
       "46              59.110                 6.651  25893450.0        NaN   \n",
       "47              59.694                 6.460  26616792.0  -777497.0   \n",
       "48              60.243                 6.254  27294031.0        NaN   \n",
       "...                ...                   ...         ...        ...   \n",
       "10729           59.360                 3.903  15411675.0        NaN   \n",
       "10730           60.398                 3.836  15777451.0        NaN   \n",
       "10731           61.163                 3.760  16150362.0        NaN   \n",
       "10732              NaN                   NaN  16529904.0   -99998.0   \n",
       "10733              NaN                   NaN         NaN        NaN   \n",
       "\n",
       "       Political_stability c_codes  \n",
       "44                0.485437     AFG  \n",
       "45                0.485437     AFG  \n",
       "46                0.483092     AFG  \n",
       "47                0.000000     AFG  \n",
       "48                0.000000     AFG  \n",
       "...                    ...     ...  \n",
       "10729            13.333330     ZWE  \n",
       "10730            16.666670     ZWE  \n",
       "10731            14.285710     ZWE  \n",
       "10732            11.428570     ZWE  \n",
       "10733                  NaN     ZWE  \n",
       "\n",
       "[10690 rows x 11 columns]"
      ]
     },
     "execution_count": 5,
     "metadata": {},
     "output_type": "execute_result"
    }
   ],
   "source": [
    "check_nan_emission = emmission[\"Total\"].isnull().sum()# this will return a value that indicates hoow many cells are filled with a NAN value\n",
    "check_nan_gnp = gnp[\"GNP per Capita\"].isnull().sum()\n",
    "\n",
    "print(f\"NAN values found in the Total emission column of emmssion dataframe: {check_nan_emission}\") # we see that that are 200 NaN values within in the emission dataframe\n",
    "print(f\"NAN values found in the GNP per capita column of gnp dataframe: {check_nan_gnp}\") # we see that 3767 cells have NAN values. these rows will be deleted. reason they are not usable en interpolting the GNP is not very rialible.\n",
    "\n",
    "gnp[\"GNP per Capita\"] = gnp[\"GNP per Capita\"].interpolate(methode = \"linear\")\n",
    "emmission[\"Total\"] = emmission[\"Total\"].interpolate(methode = \"linear\")\n",
    "\n",
    "\n",
    "check_nan_gnp = gnp[\"GNP per Capita\"].isnull().sum()\n",
    "print(f\"NAN values found in the country column of gnp after interpolation: {check_nan_gnp}\")  # print number of NAN values after interpolation\n",
    "gnp=gnp.dropna(subset=[\"GNP per Capita\"]) # drop all the rows that have NAN values in de \"GNP per Capita\" column\n",
    "\n",
    "check_nan_emission =emmission[\"Total\"].isnull().sum()\n",
    "print(f\"NAN values found in the country column of emission dataframe after interpolation: {check_nan_emission}\")\n",
    "\n",
    "gnp\n"
   ]
  },
  {
   "attachments": {},
   "cell_type": "markdown",
   "metadata": {},
   "source": [
    "### Merging dataframes\n",
    "The dataframes are now ready to be combined into a single dataframe.\n",
    "Many columns are no longer required after the merge.\n",
    "The remaining columns are described further below. \n",
    "\n",
    "`country`: This is the country.\n",
    "\n",
    "`Year`:  The year.\n",
    "\n",
    "`GNP per Capita`:  Gross National Product per capita (in dollars).\n",
    "\n",
    "`emission`:  This is the total emmision value (in g/km).\n",
    "\n",
    "`year`: The year \n",
    "\n"
   ]
  },
  {
   "cell_type": "code",
   "execution_count": 6,
   "metadata": {},
   "outputs": [
    {
     "data": {
      "text/html": [
       "<div>\n",
       "<style scoped>\n",
       "    .dataframe tbody tr th:only-of-type {\n",
       "        vertical-align: middle;\n",
       "    }\n",
       "\n",
       "    .dataframe tbody tr th {\n",
       "        vertical-align: top;\n",
       "    }\n",
       "\n",
       "    .dataframe thead th {\n",
       "        text-align: right;\n",
       "    }\n",
       "</style>\n",
       "<table border=\"1\" class=\"dataframe\">\n",
       "  <thead>\n",
       "    <tr style=\"text-align: right;\">\n",
       "      <th></th>\n",
       "      <th>country</th>\n",
       "      <th>Year</th>\n",
       "      <th>GNP per Capita</th>\n",
       "      <th>emission</th>\n",
       "    </tr>\n",
       "  </thead>\n",
       "  <tbody>\n",
       "    <tr>\n",
       "      <th>0</th>\n",
       "      <td>afghanistan</td>\n",
       "      <td>2004</td>\n",
       "      <td>210.0</td>\n",
       "      <td>1.237247</td>\n",
       "    </tr>\n",
       "    <tr>\n",
       "      <th>1</th>\n",
       "      <td>afghanistan</td>\n",
       "      <td>2005</td>\n",
       "      <td>250.0</td>\n",
       "      <td>1.889507</td>\n",
       "    </tr>\n",
       "    <tr>\n",
       "      <th>2</th>\n",
       "      <td>afghanistan</td>\n",
       "      <td>2006</td>\n",
       "      <td>270.0</td>\n",
       "      <td>2.159318</td>\n",
       "    </tr>\n",
       "    <tr>\n",
       "      <th>3</th>\n",
       "      <td>afghanistan</td>\n",
       "      <td>2007</td>\n",
       "      <td>330.0</td>\n",
       "      <td>2.799909</td>\n",
       "    </tr>\n",
       "    <tr>\n",
       "      <th>4</th>\n",
       "      <td>afghanistan</td>\n",
       "      <td>2008</td>\n",
       "      <td>360.0</td>\n",
       "      <td>4.254477</td>\n",
       "    </tr>\n",
       "  </tbody>\n",
       "</table>\n",
       "</div>"
      ],
      "text/plain": [
       "       country  Year  GNP per Capita  emission\n",
       "0  afghanistan  2004           210.0  1.237247\n",
       "1  afghanistan  2005           250.0  1.889507\n",
       "2  afghanistan  2006           270.0  2.159318\n",
       "3  afghanistan  2007           330.0  2.799909\n",
       "4  afghanistan  2008           360.0  4.254477"
      ]
     },
     "execution_count": 6,
     "metadata": {},
     "output_type": "execute_result"
    }
   ],
   "source": [
    "merged_data = pd.merge(gnp,emmission,left_on=[\"country\",\"date\"],right_on=[\"Country\",\"Year\"])\n",
    "final_df = merged_data[[\"country\",\"Year\",\"GNP per Capita\",\"Total\"]]\n",
    "final_df = final_df.rename(columns={'Total': 'emission'})\n",
    "\n",
    "num_country = len(final_df[\"country\"])\n",
    "final_df.head()\n"
   ]
  },
  {
   "cell_type": "code",
   "execution_count": 7,
   "metadata": {},
   "outputs": [
    {
     "name": "stdout",
     "output_type": "stream",
     "text": [
      "number of country's left in the data frame after merging = 9956\n"
     ]
    }
   ],
   "source": [
    "print(f\"number of country's left in the data frame after merging = {num_country}\") "
   ]
  },
  {
   "cell_type": "markdown",
   "metadata": {},
   "source": [
    "___"
   ]
  },
  {
   "attachments": {},
   "cell_type": "markdown",
   "metadata": {},
   "source": [
    "# Emission values and GNP per country in a linegraph\n",
    "\n",
    "The data can now be plotted in a linegraph to show the emission and GNP over time per country \n",
    "\n",
    "\n"
   ]
  },
  {
   "cell_type": "code",
   "execution_count": 8,
   "metadata": {},
   "outputs": [],
   "source": [
    "def get_data(country, start_year, end_year):\n",
    "    '''Function that selects records for the specified country and period'''\n",
    "    selected_records = final_df.loc[\n",
    "        (final_df['country'] == country) &\n",
    "        (final_df['Year'] >= start_year) &\n",
    "        (final_df['Year'] <= end_year)\n",
    "    ] \n",
    "    return selected_records\n",
    "\n",
    "\n",
    "def update_slider_range(country):\n",
    "    '''Function that updates the slider range'''\n",
    "    global year_range_slider\n",
    "    \n",
    "    # Get new min/max year for the selected country\n",
    "    year_range_start = final_df.loc[final_df['country'] == country]['Year'].min()\n",
    "    year_range_end = final_df.loc[final_df['country'] == country]['Year'].max()\n",
    "       \n",
    "    # Change slider range\n",
    "    year_range_slider.min = year_range_start\n",
    "    year_range_slider.max = year_range_end\n",
    "    \n",
    "    \n",
    "def draw_plot(country='afghanistan', period=(2004, 2017)):\n",
    "    '''Function that (re)draws the plot'''\n",
    "    # Get new records based on selected country and year range\n",
    "    selected_records = get_data(country, period[0], period[1])\n",
    "       \n",
    "    # Redraw plot\n",
    "    plt.scatter(selected_records['GNP per Capita'], selected_records['emission'],color =\"darkgrey\")\n",
    "    plt.title(f'GNP~Emission per year for {country}')\n",
    "    plt.xlabel('GNP')\n",
    "    plt.ylabel('Emission')\n",
    "    \n",
    "    # Update slider range for the selected country\n",
    "    update_slider_range(country)\n"
   ]
  },
  {
   "cell_type": "code",
   "execution_count": 9,
   "metadata": {},
   "outputs": [
    {
     "data": {
      "application/vnd.jupyter.widget-view+json": {
       "model_id": "1137fa8fbd6b4bd591f43faa9681f32b",
       "version_major": 2,
       "version_minor": 0
      },
      "text/plain": [
       "interactive(children=(Dropdown(description='Country', options=('afghanistan', 'albania', 'algeria', 'andorra',…"
      ]
     },
     "execution_count": 9,
     "metadata": {},
     "output_type": "execute_result"
    }
   ],
   "source": [
    "# Get unique countries for dropdown options\n",
    "unique_countries = list(final_df['country'].unique())\n",
    "\n",
    "# Create dropdown\n",
    "country_dropdown = widgets.Dropdown(\n",
    "    options=unique_countries,\n",
    "    value=unique_countries[0], # Set the first country in the list as initial value\n",
    "    description='Country',\n",
    ")\n",
    "\n",
    "# Get get min and max year of initial country\n",
    "year_range_start = final_df.loc[final_df['country'] == unique_countries[0]]['Year'].min()\n",
    "year_range_end = final_df.loc[final_df['country'] == unique_countries[0]]['Year'].max()\n",
    "\n",
    "# Create range slider\n",
    "year_range_slider = widgets.IntRangeSlider(\n",
    "    value=[year_range_start, year_range_end],\n",
    "    min=year_range_start,\n",
    "    max=year_range_end,\n",
    "    description='Years:',\n",
    ")\n",
    "\n",
    "# This line automatically calls the draw_plot() function when this cell is run\n",
    "interactive(draw_plot, country=country_dropdown, period=year_range_slider)"
   ]
  },
  {
   "attachments": {},
   "cell_type": "markdown",
   "metadata": {},
   "source": [
    "The graph depicts the relationship between GNP and emissions over time for all countries. What can be seen is that almost all countries' GNP and emissions are increasing over time. This is due to technological advances.\n",
    "Because of technological advances, countries can earn more money, but this comes at the expense of increased CO2 emissions.\n",
    "Now we want to see if there is a link between CO2 emissions and GDP. That is, we want to see if there is a correlation between the two without the Year variable.\n",
    "To accomplish this, we will extract the most recent year and plot a correlation between CO2 and emission. But first, draw a bar graph to show the amount of emissions and GNP per capita.\n",
    "\n",
    "# Barplots of the emission and  GNP\n",
    "\n",
    "\n",
    "\n"
   ]
  },
  {
   "cell_type": "code",
   "execution_count": 10,
   "metadata": {},
   "outputs": [
    {
     "data": {
      "application/vnd.jupyter.widget-view+json": {
       "model_id": "630d83be6eb54a329354697a8aeea97d",
       "version_major": 2,
       "version_minor": 0
      },
      "text/plain": [
       "interactive(children=(IntRangeSlider(value=(0, 20), description=' Bars:'), Output()), _dom_classes=('widget-in…"
      ]
     },
     "metadata": {},
     "output_type": "display_data"
    },
    {
     "data": {
      "application/vnd.jupyter.widget-view+json": {
       "model_id": "dd6e7d6e28e74a3c819cc71ea42ee5ae",
       "version_major": 2,
       "version_minor": 0
      },
      "text/plain": [
       "interactive(children=(IntRangeSlider(value=(0, 20), description=' Bars:'), Output()), _dom_classes=('widget-in…"
      ]
     },
     "metadata": {},
     "output_type": "display_data"
    }
   ],
   "source": [
    "final_df_2 = final_df.loc[final_df[\"Year\"] == 2017 ] # extracting the latest year\n",
    "\n",
    "gnp = list(final_df_2[\"GNP per Capita\"]) # getting the GNP in a list\n",
    "emission = list(final_df_2[\"emission\"]) # getting the emission in a list\n",
    "country_list = list(final_df_2[\"country\"]) # getting the names of the country in a list\n",
    "\n",
    "def make_plot_Gnp(slider):\n",
    "    \"\"\" function for making the Gnp plot\"\"\"\n",
    "    start= slider[0]\n",
    "    end = slider[1]\n",
    "    plt.bar(country_list[start:end],gnp[start:end],color = \"darkgrey\") # plotting the bars\n",
    "    plt.xticks(rotation=30, ha='right') # turn the name 30 degrees\n",
    "    plt.ylabel(\"GNP in dollar\") \n",
    "    plt.title(\"GNP per capita in 2017\")\n",
    "\n",
    "def make_plot_emission(slider):\n",
    "    \"\"\" function for making the emission plot\"\"\"\n",
    "    start= slider[0]\n",
    "    end = slider[1]\n",
    "    plt.bar(country_list[start:end],emission[start:end],color = \"darkgrey\") # plotting the bars\n",
    "    plt.xticks(rotation=30, ha='right') # turn the name 30 degrees\n",
    "    plt.ylabel(\"Amount of CO2 in g/km\")\n",
    "    plt.title(\"Emission per capita in 2017\")\n",
    "\n",
    "\n",
    "slider = widgets.IntRangeSlider(value=[0, 20],min=0 ,max = 100,description=' Bars:') #making the range slider so you can chooose which country's te see. max mimum countrys to show is 100, start value is between 0 and 20\n",
    "\n",
    "out1 = interactive(make_plot_Gnp,slider=slider) # making it interactive\n",
    "out2 = interactive(make_plot_emission,slider=slider)\n",
    "\n",
    "display(out1)\n",
    "display(out2)"
   ]
  },
  {
   "attachments": {},
   "cell_type": "markdown",
   "metadata": {},
   "source": [
    "As illustrated above, most countries have higher emissions than GNP. Most of the wealthier countries, such as Germany, have a high GNP and low emissions. This is also due to technological advancements, and these countries are more concerned about CO2 emissions and their impact on the environment. That is, those countries are attempting to reduce CO2 emissions."
   ]
  },
  {
   "cell_type": "markdown",
   "metadata": {},
   "source": [
    "____"
   ]
  },
  {
   "attachments": {},
   "cell_type": "markdown",
   "metadata": {},
   "source": [
    "# Stastistical tests\n",
    "We now have the data. To answer the research question, we need to perform some statistical checks. \n",
    "The merged dataframe can now be used to plot the data and answer the research question, but first we must determine whether the data is normally distributed. To see the distribution, a histogram will be used.\n",
    "We can then assume a destribution with the histogram and pick a Stastistical tests. "
   ]
  },
  {
   "attachments": {},
   "cell_type": "markdown",
   "metadata": {},
   "source": [
    "#### Stastistical checks \n",
    "\n",
    "The test that are being conducted:\n",
    "\n",
    "`Q Q plot`\n",
    "\n",
    "`Histogram check `\n",
    "\n",
    "`Statistic test`\n",
    "_____\n"
   ]
  },
  {
   "cell_type": "markdown",
   "metadata": {},
   "source": [
    "#### QQplot\n",
    "The Q-Q plot, also known as the quantile-quantile plot, is a graphical tool used to determine whether a set of data is likely to have come from a theoretical distribution such as a Normal or exponential distribution."
   ]
  },
  {
   "cell_type": "code",
   "execution_count": 11,
   "metadata": {},
   "outputs": [
    {
     "data": {
      "text/html": [
       "<div>\n",
       "<style scoped>\n",
       "    .dataframe tbody tr th:only-of-type {\n",
       "        vertical-align: middle;\n",
       "    }\n",
       "\n",
       "    .dataframe tbody tr th {\n",
       "        vertical-align: top;\n",
       "    }\n",
       "\n",
       "    .dataframe thead th {\n",
       "        text-align: right;\n",
       "    }\n",
       "</style>\n",
       "<table border=\"1\" class=\"dataframe\">\n",
       "  <thead>\n",
       "    <tr style=\"text-align: right;\">\n",
       "      <th></th>\n",
       "      <th>country</th>\n",
       "      <th>Year</th>\n",
       "      <th>GNP per Capita</th>\n",
       "      <th>emission</th>\n",
       "    </tr>\n",
       "  </thead>\n",
       "  <tbody>\n",
       "    <tr>\n",
       "      <th>13</th>\n",
       "      <td>afghanistan</td>\n",
       "      <td>2017</td>\n",
       "      <td>570.000000</td>\n",
       "      <td>9.867969</td>\n",
       "    </tr>\n",
       "    <tr>\n",
       "      <th>72</th>\n",
       "      <td>albania</td>\n",
       "      <td>2017</td>\n",
       "      <td>4320.000000</td>\n",
       "      <td>5.564149</td>\n",
       "    </tr>\n",
       "    <tr>\n",
       "      <th>131</th>\n",
       "      <td>algeria</td>\n",
       "      <td>2017</td>\n",
       "      <td>3960.000000</td>\n",
       "      <td>166.411374</td>\n",
       "    </tr>\n",
       "    <tr>\n",
       "      <th>190</th>\n",
       "      <td>andorra</td>\n",
       "      <td>2017</td>\n",
       "      <td>1178.181818</td>\n",
       "      <td>0.465328</td>\n",
       "    </tr>\n",
       "    <tr>\n",
       "      <th>248</th>\n",
       "      <td>angola</td>\n",
       "      <td>2017</td>\n",
       "      <td>3330.000000</td>\n",
       "      <td>24.304090</td>\n",
       "    </tr>\n",
       "  </tbody>\n",
       "</table>\n",
       "</div>"
      ],
      "text/plain": [
       "         country  Year  GNP per Capita    emission\n",
       "13   afghanistan  2017      570.000000    9.867969\n",
       "72       albania  2017     4320.000000    5.564149\n",
       "131      algeria  2017     3960.000000  166.411374\n",
       "190      andorra  2017     1178.181818    0.465328\n",
       "248       angola  2017     3330.000000   24.304090"
      ]
     },
     "execution_count": 11,
     "metadata": {},
     "output_type": "execute_result"
    }
   ],
   "source": [
    "final_df_2.head()"
   ]
  },
  {
   "cell_type": "code",
   "execution_count": 12,
   "metadata": {},
   "outputs": [
    {
     "name": "stdout",
     "output_type": "stream",
     "text": [
      "Estimation method: robust\n",
      "n = 174, mu = 9.732, sigma = 41.82\n",
      "Expected number of data outside CI: 9\n"
     ]
    },
    {
     "data": {
      "image/png": "[encoded data removed]",
      "text/plain": [
       "<Figure size 640x480 with 1 Axes>"
      ]
     },
     "metadata": {},
     "output_type": "display_data"
    },
    {
     "name": "stdout",
     "output_type": "stream",
     "text": [
      "Estimation method: robust\n",
      "n = 174, mu = 4885, sigma = 9005\n",
      "Expected number of data outside CI: 9\n"
     ]
    },
    {
     "data": {
      "image/png": "[encoded data removed]",
      "text/plain": [
       "<Figure size 640x480 with 1 Axes>"
      ]
     },
     "metadata": {},
     "output_type": "display_data"
    }
   ],
   "source": [
    "# we can just call the Q_Q_plot function from the pack made by Emile Apole \n",
    "\n",
    "sf.DS_Q_Q_Plot(final_df_2[\"emission\"]) # The plotted of the data \n",
    "sf.DS_Q_Q_Plot(final_df_2[\"GNP per Capita\"]) \n"
   ]
  },
  {
   "cell_type": "markdown",
   "metadata": {},
   "source": [
    "As seen above, the data does not follow a normal distribution.\n",
    "We should plot a histogram to see what kind of distribution is represented here.\n",
    "The distribution will be revealed by the histograms.\n",
    "We will also be able to select a statistical test for the data based on the distribution. "
   ]
  },
  {
   "cell_type": "markdown",
   "metadata": {},
   "source": [
    "___"
   ]
  },
  {
   "cell_type": "code",
   "execution_count": 13,
   "metadata": {},
   "outputs": [
    {
     "data": {
      "image/png": "[encoded data removed]",
      "text/plain": [
       "<Figure size 640x480 with 1 Axes>"
      ]
     },
     "metadata": {},
     "output_type": "display_data"
    },
    {
     "data": {
      "image/png": "[encoded data removed]",
      "text/plain": [
       "<Figure size 640x480 with 1 Axes>"
      ]
     },
     "metadata": {},
     "output_type": "display_data"
    }
   ],
   "source": [
    "# picking the bins for the histograms. I will use the minimum value and maximum value of the data.\n",
    "# GNP histogram.\n",
    "plt.title(\"The distibution of the GNP\")\n",
    "plt.hist(final_df_2[\"GNP per Capita\"],density=True,color=\"darkgrey\",bins=\"auto\", label = \"GNP distibution\",align=\"left\")\n",
    "plt.xlabel(\"GNP\")\n",
    "plt.ylabel(\"normilized frequenty\")\n",
    "plt.legend(loc = \"best\")\n",
    "plt.show()\n",
    "\n",
    "\n",
    "# plot for the emission \n",
    "plt.title(\"The distibution of the emission\")\n",
    "plt.hist(final_df_2[\"emission\"],density=True,color=\"darkgrey\",bins=np.arange(0,800,10), label = \"emission distibution\",align=\"left\")\n",
    "plt.xlabel(\"CO2 emission\")\n",
    "plt.ylabel(\"normilized frequenty\")\n",
    "plt.legend(loc = \"best\")\n",
    "plt.show()\n"
   ]
  },
  {
   "attachments": {},
   "cell_type": "markdown",
   "metadata": {},
   "source": [
    "As shown above the data is not normal distributed. The data follows a positive skewed distribution. in statistics, a positively skewed (or right-skewed) distribution is a type of distribution in which most values are clustered around the left tail of the distribution while the right tail of the distribution is longer. Meaning that a paramatic test is not possible \n",
    "for this reason we will be using a Spearman rank test."
   ]
  },
  {
   "cell_type": "markdown",
   "metadata": {},
   "source": [
    "\n",
    "\n",
    "-----"
   ]
  },
  {
   "cell_type": "markdown",
   "metadata": {},
   "source": [
    "#### Spearman rank correlation test\n",
    "\n",
    "Based on the table that was created earlier, the emmission and GNP do not appear to be correlated.\n",
    "However, to be certain, a correlation test should be performed.\n",
    "The test will be performed per capita in the most recent available year.\n",
    "This will demonstrate whether a higher GNP is associated with a higher emmission value. "
   ]
  },
  {
   "cell_type": "code",
   "execution_count": 14,
   "metadata": {},
   "outputs": [
    {
     "data": {
      "image/png": "[encoded data removed]",
      "text/plain": [
       "<Figure size 600x400 with 2 Axes>"
      ]
     },
     "metadata": {},
     "output_type": "display_data"
    },
    {
     "data": {
      "image/png": "[encoded data removed]",
      "text/plain": [
       "<Figure size 640x480 with 1 Axes>"
      ]
     },
     "metadata": {},
     "output_type": "display_data"
    }
   ],
   "source": [
    "spearman_dataframe = final_df_2.drop(columns=\"Year\") #  delete the year column from the data frame for the spearman test\n",
    "\n",
    "spearman = spearman_dataframe.corr(method=\"spearman\",numeric_only=True) # to get the Rho's from the data \n",
    "\n",
    "plt.figure(figsize=(6,4))\n",
    "heatmap = sn.heatmap(spearman, vmin=-1,vmax=1, annot=True) # visualize the Rho's \n",
    "plt.title(\"Spearman Correlation\")\n",
    "plt.show()\n",
    "\n",
    "# plotting a scatter plot to show correlation\n",
    "plt.title(\"The regression of GNP and CO2 emission of 2017\")\n",
    "plt.scatter(final_df_2[\"GNP per Capita\"],final_df_2[\"emission\"],label = \"GNP per capita ~ CO2 emission\",color= \"darkgrey\")\n",
    "plt.plot(final_df_2[\"GNP per Capita\"], np.poly1d(np.polyfit(final_df_2[\"GNP per Capita\"], final_df_2[\"emission\"], 1))(final_df_2[\"GNP per Capita\"]), color='red')\n",
    "plt.xlabel(\"GNP per capita\")\n",
    "plt.ylabel(\"CO2 emission\")\n",
    "plt.text(50000, 2000, f'Spearman R = {round(pd.Series(final_df_2[\"GNP per Capita\"]).corr(final_df_2[\"emission\"], method=\"spearman\"), 3)}')\n",
    "plt.legend(loc = \"best\")\n",
    "plt.show()\n",
    "\n",
    "\n",
    "\n",
    "\n"
   ]
  },
  {
   "attachments": {},
   "cell_type": "markdown",
   "metadata": {},
   "source": [
    "# Conclusion\n",
    "\n",
    "The test's Rho reveals that the correlation between the two variables (GNP and CO2 emissions) is only 0.388. That is, the correlation strength between the two variables is not very strong. \n",
    "This low Rho is due to the fact that the countries with the highest GNP emit the least amount of CO2. In comparison, the countries with the lowest GNP emit a large amount of CO2. The simple explanation is that poor countries lack the technology to produce goods with low CO2 emissions.\n",
    "and countries such as Germany can do so due to their wealth and technological advantage.\n",
    "This can be seen within the section   `Barplots`.\n",
    " \n",
    "\n",
    "____"
   ]
  }
 ],
 "metadata": {
  "kernelspec": {
   "display_name": "Python 3",
   "language": "python",
   "name": "python3"
  },
  "language_info": {
   "codemirror_mode": {
    "name": "ipython",
    "version": 3
   },
   "file_extension": ".py",
   "mimetype": "text/x-python",
   "name": "python",
   "nbconvert_exporter": "python",
   "pygments_lexer": "ipython3",
   "version": "3.11.2"
  },
  "vscode": {
   "interpreter": {
    "hash": "a9e8417af0373369c85c2c017dc8df96b0435e64125aa0104f896255279dca97"
   }
  }
 },
 "nbformat": 4,
 "nbformat_minor": 2
}
